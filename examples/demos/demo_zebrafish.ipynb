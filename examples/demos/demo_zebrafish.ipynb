{
 "cells": [
  {
   "cell_type": "code",
   "execution_count": 1,
   "metadata": {},
   "outputs": [],
   "source": [
    "from lineagegrn.plot.analysis_result import *\n",
    "from lineagegrn.downstream_analysis import *\n",
    "from lineagegrn.utils.constant import *\n",
    "from lineagegrn.utils.synthetic_data_generation import *\n",
    "from lineagegrn.cell_fate_map import *\n",
    "from lineagegrn.gene_regulatory_network import*\n",
    "from lineagegrn.utils.metrics import *"
   ]
  },
  {
   "cell_type": "code",
   "execution_count": 3,
   "metadata": {},
   "outputs": [
    {
     "name": "stdout",
     "output_type": "stream",
     "text": [
      "Iteration 1...\n",
      "Difference in alpha_vector: 2.590881974547545\n",
      "Iteration 2...\n"
     ]
    }
   ],
   "source": [
    "sc_mat = np.array(pd.read_csv('examples/data/zebrafish/input_data/barcode_site.csv', index_col=0))\n",
    "cell_types = pd.read_csv(\"examples/data/zebrafish/input_data/cell_types.csv\", index_col=0).to_dict()['celltypes']\n",
    "t_S = 15\n",
    "\n",
    "edges, fate_map = construct_fate_map(sc_mat, cell_types, t_S, beta=1, max_iter=100, tol=1e-1,output_edges=True)"
   ]
  }
 ],
 "metadata": {
  "kernelspec": {
   "display_name": "base",
   "language": "python",
   "name": "python3"
  },
  "language_info": {
   "codemirror_mode": {
    "name": "ipython",
    "version": 3
   },
   "file_extension": ".py",
   "mimetype": "text/x-python",
   "name": "python",
   "nbconvert_exporter": "python",
   "pygments_lexer": "ipython3",
   "version": "3.11.7"
  }
 },
 "nbformat": 4,
 "nbformat_minor": 2
}
